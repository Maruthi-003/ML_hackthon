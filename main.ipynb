{
 "cells": [
  {
   "cell_type": "code",
   "execution_count": 1,
   "id": "3bfe5b17-8b4c-4d63-bf35-36535ce800e8",
   "metadata": {},
   "outputs": [],
   "source": [
    "import pandas as pd"
   ]
  },
  {
   "cell_type": "code",
   "execution_count": 2,
   "id": "b0685872-9c98-4df9-96a0-52306d7f944e",
   "metadata": {},
   "outputs": [],
   "source": [
    "df = pd.read_csv(\"processed_stocks_data.csv\")"
   ]
  },
  {
   "cell_type": "code",
   "execution_count": 3,
   "id": "f83fb072-ecd3-453e-a819-d36be990b652",
   "metadata": {},
   "outputs": [],
   "source": [
    "df.drop(\"Volatility\",axis=1,inplace=True)"
   ]
  },
  {
   "cell_type": "code",
   "execution_count": 4,
   "id": "9a5c995e-c199-4f08-b805-74e449770dd9",
   "metadata": {},
   "outputs": [
    {
     "data": {
      "text/html": [
       "<div>\n",
       "<style scoped>\n",
       "    .dataframe tbody tr th:only-of-type {\n",
       "        vertical-align: middle;\n",
       "    }\n",
       "\n",
       "    .dataframe tbody tr th {\n",
       "        vertical-align: top;\n",
       "    }\n",
       "\n",
       "    .dataframe thead th {\n",
       "        text-align: right;\n",
       "    }\n",
       "</style>\n",
       "<table border=\"1\" class=\"dataframe\">\n",
       "  <thead>\n",
       "    <tr style=\"text-align: right;\">\n",
       "      <th></th>\n",
       "      <th>Stock</th>\n",
       "      <th>Date</th>\n",
       "      <th>Open</th>\n",
       "      <th>High</th>\n",
       "      <th>Low</th>\n",
       "      <th>Close</th>\n",
       "      <th>Volume</th>\n",
       "      <th>Log Return</th>\n",
       "    </tr>\n",
       "  </thead>\n",
       "  <tbody>\n",
       "    <tr>\n",
       "      <th>0</th>\n",
       "      <td>AAPL</td>\n",
       "      <td>2025-03-04</td>\n",
       "      <td>241.790</td>\n",
       "      <td>244.0272</td>\n",
       "      <td>234.68</td>\n",
       "      <td>235.93</td>\n",
       "      <td>100982047</td>\n",
       "      <td>0.000000</td>\n",
       "    </tr>\n",
       "    <tr>\n",
       "      <th>1</th>\n",
       "      <td>AAPL</td>\n",
       "      <td>2025-02-28</td>\n",
       "      <td>229.990</td>\n",
       "      <td>250.0000</td>\n",
       "      <td>225.70</td>\n",
       "      <td>241.84</td>\n",
       "      <td>862317019</td>\n",
       "      <td>0.024741</td>\n",
       "    </tr>\n",
       "    <tr>\n",
       "      <th>2</th>\n",
       "      <td>AAPL</td>\n",
       "      <td>2025-01-31</td>\n",
       "      <td>248.930</td>\n",
       "      <td>249.1000</td>\n",
       "      <td>219.38</td>\n",
       "      <td>236.00</td>\n",
       "      <td>1200291603</td>\n",
       "      <td>-0.024445</td>\n",
       "    </tr>\n",
       "    <tr>\n",
       "      <th>3</th>\n",
       "      <td>AAPL</td>\n",
       "      <td>2024-12-31</td>\n",
       "      <td>237.270</td>\n",
       "      <td>260.1000</td>\n",
       "      <td>237.16</td>\n",
       "      <td>250.42</td>\n",
       "      <td>977942014</td>\n",
       "      <td>0.059308</td>\n",
       "    </tr>\n",
       "    <tr>\n",
       "      <th>4</th>\n",
       "      <td>AAPL</td>\n",
       "      <td>2024-11-29</td>\n",
       "      <td>220.965</td>\n",
       "      <td>237.8100</td>\n",
       "      <td>219.71</td>\n",
       "      <td>237.33</td>\n",
       "      <td>891640714</td>\n",
       "      <td>-0.053688</td>\n",
       "    </tr>\n",
       "  </tbody>\n",
       "</table>\n",
       "</div>"
      ],
      "text/plain": [
       "  Stock        Date     Open      High     Low   Close      Volume  Log Return\n",
       "0  AAPL  2025-03-04  241.790  244.0272  234.68  235.93   100982047    0.000000\n",
       "1  AAPL  2025-02-28  229.990  250.0000  225.70  241.84   862317019    0.024741\n",
       "2  AAPL  2025-01-31  248.930  249.1000  219.38  236.00  1200291603   -0.024445\n",
       "3  AAPL  2024-12-31  237.270  260.1000  237.16  250.42   977942014    0.059308\n",
       "4  AAPL  2024-11-29  220.965  237.8100  219.71  237.33   891640714   -0.053688"
      ]
     },
     "execution_count": 4,
     "metadata": {},
     "output_type": "execute_result"
    }
   ],
   "source": [
    "df.head()"
   ]
  },
  {
   "cell_type": "code",
   "execution_count": 5,
   "id": "91d71d98-e7ef-4b7d-abfa-2ee50fde17b9",
   "metadata": {},
   "outputs": [],
   "source": [
    "import numpy as np\n",
    "from pycaret.regression import *\n"
   ]
  },
  {
   "cell_type": "code",
   "execution_count": 6,
   "id": "ab1d56d3-e228-4b14-aeb8-35891a1bf5b5",
   "metadata": {},
   "outputs": [],
   "source": [
    "df['Date'] = pd.to_datetime(df['Date'])\n",
    "df['Year'] = df['Date'].dt.year\n",
    "df['Month'] = df['Date'].dt.month\n",
    "df['Day'] = df['Date'].dt.day"
   ]
  },
  {
   "cell_type": "code",
   "execution_count": 7,
   "id": "9c7ecf27-3019-48ae-930f-caa4974eb81e",
   "metadata": {},
   "outputs": [],
   "source": [
    "df = pd.get_dummies(df, columns=['Stock'])"
   ]
  },
  {
   "cell_type": "code",
   "execution_count": 8,
   "id": "501e98e0-35e5-4dfb-891e-1bc2957c0ee6",
   "metadata": {},
   "outputs": [],
   "source": [
    "df.drop(columns=['Date'], inplace=True)"
   ]
  },
  {
   "cell_type": "code",
   "execution_count": 9,
   "id": "b497a654-43d4-42b9-ba60-f2b040f08046",
   "metadata": {},
   "outputs": [],
   "source": [
    "target = \"Log Return\"\n",
    "features = [col for col in df.columns if col != target]"
   ]
  },
  {
   "cell_type": "code",
   "execution_count": 10,
   "id": "3811c2ec-29c2-4d1c-95f7-c973349b280c",
   "metadata": {},
   "outputs": [],
   "source": [
    "exp = setup(df, target=target, session_id=42,  verbose=False)"
   ]
  },
  {
   "cell_type": "code",
   "execution_count": 11,
   "id": "68bb0273-a4f4-4579-8665-0a7dcd2c6c17",
   "metadata": {},
   "outputs": [
    {
     "data": {
      "text/html": [],
      "text/plain": [
       "<IPython.core.display.HTML object>"
      ]
     },
     "metadata": {},
     "output_type": "display_data"
    },
    {
     "data": {
      "text/html": [
       "<style type=\"text/css\">\n",
       "#T_a46f2 th {\n",
       "  text-align: left;\n",
       "}\n",
       "#T_a46f2_row0_col0, #T_a46f2_row0_col2, #T_a46f2_row0_col5, #T_a46f2_row0_col6, #T_a46f2_row1_col0, #T_a46f2_row1_col1, #T_a46f2_row1_col2, #T_a46f2_row1_col3, #T_a46f2_row1_col4, #T_a46f2_row1_col5, #T_a46f2_row1_col6, #T_a46f2_row2_col0, #T_a46f2_row2_col1, #T_a46f2_row2_col2, #T_a46f2_row2_col3, #T_a46f2_row2_col4, #T_a46f2_row2_col5, #T_a46f2_row3_col0, #T_a46f2_row3_col1, #T_a46f2_row3_col3, #T_a46f2_row3_col4, #T_a46f2_row3_col5, #T_a46f2_row3_col6, #T_a46f2_row4_col0, #T_a46f2_row4_col1, #T_a46f2_row4_col3, #T_a46f2_row4_col4, #T_a46f2_row4_col5, #T_a46f2_row4_col6, #T_a46f2_row5_col0, #T_a46f2_row5_col1, #T_a46f2_row5_col2, #T_a46f2_row5_col3, #T_a46f2_row5_col4, #T_a46f2_row5_col5, #T_a46f2_row5_col6, #T_a46f2_row6_col0, #T_a46f2_row6_col1, #T_a46f2_row6_col2, #T_a46f2_row6_col3, #T_a46f2_row6_col4, #T_a46f2_row6_col5, #T_a46f2_row6_col6, #T_a46f2_row7_col0, #T_a46f2_row7_col1, #T_a46f2_row7_col2, #T_a46f2_row7_col3, #T_a46f2_row7_col4, #T_a46f2_row7_col5, #T_a46f2_row7_col6, #T_a46f2_row8_col0, #T_a46f2_row8_col1, #T_a46f2_row8_col2, #T_a46f2_row8_col3, #T_a46f2_row8_col4, #T_a46f2_row8_col5, #T_a46f2_row8_col6, #T_a46f2_row9_col0, #T_a46f2_row9_col1, #T_a46f2_row9_col2, #T_a46f2_row9_col3, #T_a46f2_row9_col4, #T_a46f2_row9_col6, #T_a46f2_row10_col0, #T_a46f2_row10_col1, #T_a46f2_row10_col2, #T_a46f2_row10_col3, #T_a46f2_row10_col4, #T_a46f2_row10_col5, #T_a46f2_row10_col6, #T_a46f2_row11_col0, #T_a46f2_row11_col1, #T_a46f2_row11_col2, #T_a46f2_row11_col3, #T_a46f2_row11_col4, #T_a46f2_row11_col5, #T_a46f2_row11_col6, #T_a46f2_row12_col0, #T_a46f2_row12_col1, #T_a46f2_row12_col2, #T_a46f2_row12_col3, #T_a46f2_row12_col4, #T_a46f2_row12_col5, #T_a46f2_row12_col6, #T_a46f2_row13_col0, #T_a46f2_row13_col1, #T_a46f2_row13_col2, #T_a46f2_row13_col3, #T_a46f2_row13_col4, #T_a46f2_row13_col5, #T_a46f2_row13_col6, #T_a46f2_row14_col0, #T_a46f2_row14_col1, #T_a46f2_row14_col2, #T_a46f2_row14_col3, #T_a46f2_row14_col4, #T_a46f2_row14_col5, #T_a46f2_row14_col6, #T_a46f2_row15_col0, #T_a46f2_row15_col1, #T_a46f2_row15_col2, #T_a46f2_row15_col3, #T_a46f2_row15_col4, #T_a46f2_row15_col5, #T_a46f2_row15_col6, #T_a46f2_row16_col0, #T_a46f2_row16_col1, #T_a46f2_row16_col2, #T_a46f2_row16_col3, #T_a46f2_row16_col4, #T_a46f2_row16_col5, #T_a46f2_row16_col6, #T_a46f2_row17_col0, #T_a46f2_row17_col1, #T_a46f2_row17_col2, #T_a46f2_row17_col3, #T_a46f2_row17_col4, #T_a46f2_row17_col5, #T_a46f2_row17_col6 {\n",
       "  text-align: left;\n",
       "}\n",
       "#T_a46f2_row0_col1, #T_a46f2_row0_col3, #T_a46f2_row0_col4, #T_a46f2_row2_col6, #T_a46f2_row3_col2, #T_a46f2_row4_col2, #T_a46f2_row9_col5 {\n",
       "  text-align: left;\n",
       "  background-color: yellow;\n",
       "}\n",
       "#T_a46f2_row0_col7, #T_a46f2_row2_col7, #T_a46f2_row3_col7, #T_a46f2_row4_col7, #T_a46f2_row5_col7, #T_a46f2_row7_col7, #T_a46f2_row8_col7, #T_a46f2_row9_col7, #T_a46f2_row10_col7, #T_a46f2_row11_col7, #T_a46f2_row12_col7, #T_a46f2_row13_col7, #T_a46f2_row14_col7, #T_a46f2_row15_col7, #T_a46f2_row16_col7, #T_a46f2_row17_col7 {\n",
       "  text-align: left;\n",
       "  background-color: lightgrey;\n",
       "}\n",
       "#T_a46f2_row1_col7, #T_a46f2_row6_col7 {\n",
       "  text-align: left;\n",
       "  background-color: yellow;\n",
       "  background-color: lightgrey;\n",
       "}\n",
       "</style>\n",
       "<table id=\"T_a46f2\">\n",
       "  <thead>\n",
       "    <tr>\n",
       "      <th class=\"blank level0\" >&nbsp;</th>\n",
       "      <th id=\"T_a46f2_level0_col0\" class=\"col_heading level0 col0\" >Model</th>\n",
       "      <th id=\"T_a46f2_level0_col1\" class=\"col_heading level0 col1\" >MAE</th>\n",
       "      <th id=\"T_a46f2_level0_col2\" class=\"col_heading level0 col2\" >MSE</th>\n",
       "      <th id=\"T_a46f2_level0_col3\" class=\"col_heading level0 col3\" >RMSE</th>\n",
       "      <th id=\"T_a46f2_level0_col4\" class=\"col_heading level0 col4\" >R2</th>\n",
       "      <th id=\"T_a46f2_level0_col5\" class=\"col_heading level0 col5\" >RMSLE</th>\n",
       "      <th id=\"T_a46f2_level0_col6\" class=\"col_heading level0 col6\" >MAPE</th>\n",
       "      <th id=\"T_a46f2_level0_col7\" class=\"col_heading level0 col7\" >TT (Sec)</th>\n",
       "    </tr>\n",
       "  </thead>\n",
       "  <tbody>\n",
       "    <tr>\n",
       "      <th id=\"T_a46f2_level0_row0\" class=\"row_heading level0 row0\" >huber</th>\n",
       "      <td id=\"T_a46f2_row0_col0\" class=\"data row0 col0\" >Huber Regressor</td>\n",
       "      <td id=\"T_a46f2_row0_col1\" class=\"data row0 col1\" >0.0912</td>\n",
       "      <td id=\"T_a46f2_row0_col2\" class=\"data row0 col2\" >0.0391</td>\n",
       "      <td id=\"T_a46f2_row0_col3\" class=\"data row0 col3\" >0.1745</td>\n",
       "      <td id=\"T_a46f2_row0_col4\" class=\"data row0 col4\" >-0.0128</td>\n",
       "      <td id=\"T_a46f2_row0_col5\" class=\"data row0 col5\" >0.1146</td>\n",
       "      <td id=\"T_a46f2_row0_col6\" class=\"data row0 col6\" >1.4094</td>\n",
       "      <td id=\"T_a46f2_row0_col7\" class=\"data row0 col7\" >0.0250</td>\n",
       "    </tr>\n",
       "    <tr>\n",
       "      <th id=\"T_a46f2_level0_row1\" class=\"row_heading level0 row1\" >dummy</th>\n",
       "      <td id=\"T_a46f2_row1_col0\" class=\"data row1 col0\" >Dummy Regressor</td>\n",
       "      <td id=\"T_a46f2_row1_col1\" class=\"data row1 col1\" >0.0917</td>\n",
       "      <td id=\"T_a46f2_row1_col2\" class=\"data row1 col2\" >0.0392</td>\n",
       "      <td id=\"T_a46f2_row1_col3\" class=\"data row1 col3\" >0.1747</td>\n",
       "      <td id=\"T_a46f2_row1_col4\" class=\"data row1 col4\" >-0.0171</td>\n",
       "      <td id=\"T_a46f2_row1_col5\" class=\"data row1 col5\" >0.1212</td>\n",
       "      <td id=\"T_a46f2_row1_col6\" class=\"data row1 col6\" >1.1056</td>\n",
       "      <td id=\"T_a46f2_row1_col7\" class=\"data row1 col7\" >0.0220</td>\n",
       "    </tr>\n",
       "    <tr>\n",
       "      <th id=\"T_a46f2_level0_row2\" class=\"row_heading level0 row2\" >omp</th>\n",
       "      <td id=\"T_a46f2_row2_col0\" class=\"data row2 col0\" >Orthogonal Matching Pursuit</td>\n",
       "      <td id=\"T_a46f2_row2_col1\" class=\"data row2 col1\" >0.0917</td>\n",
       "      <td id=\"T_a46f2_row2_col2\" class=\"data row2 col2\" >0.0392</td>\n",
       "      <td id=\"T_a46f2_row2_col3\" class=\"data row2 col3\" >0.1747</td>\n",
       "      <td id=\"T_a46f2_row2_col4\" class=\"data row2 col4\" >-0.0179</td>\n",
       "      <td id=\"T_a46f2_row2_col5\" class=\"data row2 col5\" >0.1212</td>\n",
       "      <td id=\"T_a46f2_row2_col6\" class=\"data row2 col6\" >1.1014</td>\n",
       "      <td id=\"T_a46f2_row2_col7\" class=\"data row2 col7\" >0.0230</td>\n",
       "    </tr>\n",
       "    <tr>\n",
       "      <th id=\"T_a46f2_level0_row3\" class=\"row_heading level0 row3\" >lasso</th>\n",
       "      <td id=\"T_a46f2_row3_col0\" class=\"data row3 col0\" >Lasso Regression</td>\n",
       "      <td id=\"T_a46f2_row3_col1\" class=\"data row3 col1\" >0.0939</td>\n",
       "      <td id=\"T_a46f2_row3_col2\" class=\"data row3 col2\" >0.0388</td>\n",
       "      <td id=\"T_a46f2_row3_col3\" class=\"data row3 col3\" >0.1752</td>\n",
       "      <td id=\"T_a46f2_row3_col4\" class=\"data row3 col4\" >-0.0379</td>\n",
       "      <td id=\"T_a46f2_row3_col5\" class=\"data row3 col5\" >0.1131</td>\n",
       "      <td id=\"T_a46f2_row3_col6\" class=\"data row3 col6\" >1.6240</td>\n",
       "      <td id=\"T_a46f2_row3_col7\" class=\"data row3 col7\" >0.0250</td>\n",
       "    </tr>\n",
       "    <tr>\n",
       "      <th id=\"T_a46f2_level0_row4\" class=\"row_heading level0 row4\" >llar</th>\n",
       "      <td id=\"T_a46f2_row4_col0\" class=\"data row4 col0\" >Lasso Least Angle Regression</td>\n",
       "      <td id=\"T_a46f2_row4_col1\" class=\"data row4 col1\" >0.0939</td>\n",
       "      <td id=\"T_a46f2_row4_col2\" class=\"data row4 col2\" >0.0388</td>\n",
       "      <td id=\"T_a46f2_row4_col3\" class=\"data row4 col3\" >0.1752</td>\n",
       "      <td id=\"T_a46f2_row4_col4\" class=\"data row4 col4\" >-0.0379</td>\n",
       "      <td id=\"T_a46f2_row4_col5\" class=\"data row4 col5\" >0.1131</td>\n",
       "      <td id=\"T_a46f2_row4_col6\" class=\"data row4 col6\" >1.6240</td>\n",
       "      <td id=\"T_a46f2_row4_col7\" class=\"data row4 col7\" >0.0230</td>\n",
       "    </tr>\n",
       "    <tr>\n",
       "      <th id=\"T_a46f2_level0_row5\" class=\"row_heading level0 row5\" >en</th>\n",
       "      <td id=\"T_a46f2_row5_col0\" class=\"data row5 col0\" >Elastic Net</td>\n",
       "      <td id=\"T_a46f2_row5_col1\" class=\"data row5 col1\" >0.0943</td>\n",
       "      <td id=\"T_a46f2_row5_col2\" class=\"data row5 col2\" >0.0391</td>\n",
       "      <td id=\"T_a46f2_row5_col3\" class=\"data row5 col3\" >0.1758</td>\n",
       "      <td id=\"T_a46f2_row5_col4\" class=\"data row5 col4\" >-0.0441</td>\n",
       "      <td id=\"T_a46f2_row5_col5\" class=\"data row5 col5\" >0.1129</td>\n",
       "      <td id=\"T_a46f2_row5_col6\" class=\"data row5 col6\" >1.6577</td>\n",
       "      <td id=\"T_a46f2_row5_col7\" class=\"data row5 col7\" >0.0250</td>\n",
       "    </tr>\n",
       "    <tr>\n",
       "      <th id=\"T_a46f2_level0_row6\" class=\"row_heading level0 row6\" >br</th>\n",
       "      <td id=\"T_a46f2_row6_col0\" class=\"data row6 col0\" >Bayesian Ridge</td>\n",
       "      <td id=\"T_a46f2_row6_col1\" class=\"data row6 col1\" >0.0963</td>\n",
       "      <td id=\"T_a46f2_row6_col2\" class=\"data row6 col2\" >0.0419</td>\n",
       "      <td id=\"T_a46f2_row6_col3\" class=\"data row6 col3\" >0.1811</td>\n",
       "      <td id=\"T_a46f2_row6_col4\" class=\"data row6 col4\" >-0.0959</td>\n",
       "      <td id=\"T_a46f2_row6_col5\" class=\"data row6 col5\" >0.1138</td>\n",
       "      <td id=\"T_a46f2_row6_col6\" class=\"data row6 col6\" >1.9111</td>\n",
       "      <td id=\"T_a46f2_row6_col7\" class=\"data row6 col7\" >0.0220</td>\n",
       "    </tr>\n",
       "    <tr>\n",
       "      <th id=\"T_a46f2_level0_row7\" class=\"row_heading level0 row7\" >ridge</th>\n",
       "      <td id=\"T_a46f2_row7_col0\" class=\"data row7 col0\" >Ridge Regression</td>\n",
       "      <td id=\"T_a46f2_row7_col1\" class=\"data row7 col1\" >0.0980</td>\n",
       "      <td id=\"T_a46f2_row7_col2\" class=\"data row7 col2\" >0.0425</td>\n",
       "      <td id=\"T_a46f2_row7_col3\" class=\"data row7 col3\" >0.1825</td>\n",
       "      <td id=\"T_a46f2_row7_col4\" class=\"data row7 col4\" >-0.1196</td>\n",
       "      <td id=\"T_a46f2_row7_col5\" class=\"data row7 col5\" >0.1129</td>\n",
       "      <td id=\"T_a46f2_row7_col6\" class=\"data row7 col6\" >2.1704</td>\n",
       "      <td id=\"T_a46f2_row7_col7\" class=\"data row7 col7\" >0.0250</td>\n",
       "    </tr>\n",
       "    <tr>\n",
       "      <th id=\"T_a46f2_level0_row8\" class=\"row_heading level0 row8\" >lr</th>\n",
       "      <td id=\"T_a46f2_row8_col0\" class=\"data row8 col0\" >Linear Regression</td>\n",
       "      <td id=\"T_a46f2_row8_col1\" class=\"data row8 col1\" >0.0981</td>\n",
       "      <td id=\"T_a46f2_row8_col2\" class=\"data row8 col2\" >0.0425</td>\n",
       "      <td id=\"T_a46f2_row8_col3\" class=\"data row8 col3\" >0.1826</td>\n",
       "      <td id=\"T_a46f2_row8_col4\" class=\"data row8 col4\" >-0.1198</td>\n",
       "      <td id=\"T_a46f2_row8_col5\" class=\"data row8 col5\" >0.1129</td>\n",
       "      <td id=\"T_a46f2_row8_col6\" class=\"data row8 col6\" >2.1722</td>\n",
       "      <td id=\"T_a46f2_row8_col7\" class=\"data row8 col7\" >1.1340</td>\n",
       "    </tr>\n",
       "    <tr>\n",
       "      <th id=\"T_a46f2_level0_row9\" class=\"row_heading level0 row9\" >lightgbm</th>\n",
       "      <td id=\"T_a46f2_row9_col0\" class=\"data row9 col0\" >Light Gradient Boosting Machine</td>\n",
       "      <td id=\"T_a46f2_row9_col1\" class=\"data row9 col1\" >0.1036</td>\n",
       "      <td id=\"T_a46f2_row9_col2\" class=\"data row9 col2\" >0.0415</td>\n",
       "      <td id=\"T_a46f2_row9_col3\" class=\"data row9 col3\" >0.1844</td>\n",
       "      <td id=\"T_a46f2_row9_col4\" class=\"data row9 col4\" >-0.2078</td>\n",
       "      <td id=\"T_a46f2_row9_col5\" class=\"data row9 col5\" >0.1070</td>\n",
       "      <td id=\"T_a46f2_row9_col6\" class=\"data row9 col6\" >3.4717</td>\n",
       "      <td id=\"T_a46f2_row9_col7\" class=\"data row9 col7\" >0.2260</td>\n",
       "    </tr>\n",
       "    <tr>\n",
       "      <th id=\"T_a46f2_level0_row10\" class=\"row_heading level0 row10\" >et</th>\n",
       "      <td id=\"T_a46f2_row10_col0\" class=\"data row10 col0\" >Extra Trees Regressor</td>\n",
       "      <td id=\"T_a46f2_row10_col1\" class=\"data row10 col1\" >0.1033</td>\n",
       "      <td id=\"T_a46f2_row10_col2\" class=\"data row10 col2\" >0.0440</td>\n",
       "      <td id=\"T_a46f2_row10_col3\" class=\"data row10 col3\" >0.1897</td>\n",
       "      <td id=\"T_a46f2_row10_col4\" class=\"data row10 col4\" >-0.3111</td>\n",
       "      <td id=\"T_a46f2_row10_col5\" class=\"data row10 col5\" >0.1127</td>\n",
       "      <td id=\"T_a46f2_row10_col6\" class=\"data row10 col6\" >3.0863</td>\n",
       "      <td id=\"T_a46f2_row10_col7\" class=\"data row10 col7\" >0.1980</td>\n",
       "    </tr>\n",
       "    <tr>\n",
       "      <th id=\"T_a46f2_level0_row11\" class=\"row_heading level0 row11\" >rf</th>\n",
       "      <td id=\"T_a46f2_row11_col0\" class=\"data row11 col0\" >Random Forest Regressor</td>\n",
       "      <td id=\"T_a46f2_row11_col1\" class=\"data row11 col1\" >0.0993</td>\n",
       "      <td id=\"T_a46f2_row11_col2\" class=\"data row11 col2\" >0.0459</td>\n",
       "      <td id=\"T_a46f2_row11_col3\" class=\"data row11 col3\" >0.1926</td>\n",
       "      <td id=\"T_a46f2_row11_col4\" class=\"data row11 col4\" >-0.3604</td>\n",
       "      <td id=\"T_a46f2_row11_col5\" class=\"data row11 col5\" >0.1147</td>\n",
       "      <td id=\"T_a46f2_row11_col6\" class=\"data row11 col6\" >2.6802</td>\n",
       "      <td id=\"T_a46f2_row11_col7\" class=\"data row11 col7\" >0.3890</td>\n",
       "    </tr>\n",
       "    <tr>\n",
       "      <th id=\"T_a46f2_level0_row12\" class=\"row_heading level0 row12\" >lar</th>\n",
       "      <td id=\"T_a46f2_row12_col0\" class=\"data row12 col0\" >Least Angle Regression</td>\n",
       "      <td id=\"T_a46f2_row12_col1\" class=\"data row12 col1\" >0.1040</td>\n",
       "      <td id=\"T_a46f2_row12_col2\" class=\"data row12 col2\" >0.0532</td>\n",
       "      <td id=\"T_a46f2_row12_col3\" class=\"data row12 col3\" >0.1980</td>\n",
       "      <td id=\"T_a46f2_row12_col4\" class=\"data row12 col4\" >-0.2983</td>\n",
       "      <td id=\"T_a46f2_row12_col5\" class=\"data row12 col5\" >0.1161</td>\n",
       "      <td id=\"T_a46f2_row12_col6\" class=\"data row12 col6\" >2.7536</td>\n",
       "      <td id=\"T_a46f2_row12_col7\" class=\"data row12 col7\" >0.0240</td>\n",
       "    </tr>\n",
       "    <tr>\n",
       "      <th id=\"T_a46f2_level0_row13\" class=\"row_heading level0 row13\" >gbr</th>\n",
       "      <td id=\"T_a46f2_row13_col0\" class=\"data row13 col0\" >Gradient Boosting Regressor</td>\n",
       "      <td id=\"T_a46f2_row13_col1\" class=\"data row13 col1\" >0.1007</td>\n",
       "      <td id=\"T_a46f2_row13_col2\" class=\"data row13 col2\" >0.0514</td>\n",
       "      <td id=\"T_a46f2_row13_col3\" class=\"data row13 col3\" >0.2001</td>\n",
       "      <td id=\"T_a46f2_row13_col4\" class=\"data row13 col4\" >-0.4272</td>\n",
       "      <td id=\"T_a46f2_row13_col5\" class=\"data row13 col5\" >0.1175</td>\n",
       "      <td id=\"T_a46f2_row13_col6\" class=\"data row13 col6\" >2.4364</td>\n",
       "      <td id=\"T_a46f2_row13_col7\" class=\"data row13 col7\" >0.1650</td>\n",
       "    </tr>\n",
       "    <tr>\n",
       "      <th id=\"T_a46f2_level0_row14\" class=\"row_heading level0 row14\" >knn</th>\n",
       "      <td id=\"T_a46f2_row14_col0\" class=\"data row14 col0\" >K Neighbors Regressor</td>\n",
       "      <td id=\"T_a46f2_row14_col1\" class=\"data row14 col1\" >0.1124</td>\n",
       "      <td id=\"T_a46f2_row14_col2\" class=\"data row14 col2\" >0.0484</td>\n",
       "      <td id=\"T_a46f2_row14_col3\" class=\"data row14 col3\" >0.2028</td>\n",
       "      <td id=\"T_a46f2_row14_col4\" class=\"data row14 col4\" >-0.5739</td>\n",
       "      <td id=\"T_a46f2_row14_col5\" class=\"data row14 col5\" >0.1199</td>\n",
       "      <td id=\"T_a46f2_row14_col6\" class=\"data row14 col6\" >3.6930</td>\n",
       "      <td id=\"T_a46f2_row14_col7\" class=\"data row14 col7\" >0.0290</td>\n",
       "    </tr>\n",
       "    <tr>\n",
       "      <th id=\"T_a46f2_level0_row15\" class=\"row_heading level0 row15\" >ada</th>\n",
       "      <td id=\"T_a46f2_row15_col0\" class=\"data row15 col0\" >AdaBoost Regressor</td>\n",
       "      <td id=\"T_a46f2_row15_col1\" class=\"data row15 col1\" >0.1084</td>\n",
       "      <td id=\"T_a46f2_row15_col2\" class=\"data row15 col2\" >0.0622</td>\n",
       "      <td id=\"T_a46f2_row15_col3\" class=\"data row15 col3\" >0.2197</td>\n",
       "      <td id=\"T_a46f2_row15_col4\" class=\"data row15 col4\" >-1.1013</td>\n",
       "      <td id=\"T_a46f2_row15_col5\" class=\"data row15 col5\" >0.1221</td>\n",
       "      <td id=\"T_a46f2_row15_col6\" class=\"data row15 col6\" >2.7906</td>\n",
       "      <td id=\"T_a46f2_row15_col7\" class=\"data row15 col7\" >0.0740</td>\n",
       "    </tr>\n",
       "    <tr>\n",
       "      <th id=\"T_a46f2_level0_row16\" class=\"row_heading level0 row16\" >dt</th>\n",
       "      <td id=\"T_a46f2_row16_col0\" class=\"data row16 col0\" >Decision Tree Regressor</td>\n",
       "      <td id=\"T_a46f2_row16_col1\" class=\"data row16 col1\" >0.1341</td>\n",
       "      <td id=\"T_a46f2_row16_col2\" class=\"data row16 col2\" >0.0742</td>\n",
       "      <td id=\"T_a46f2_row16_col3\" class=\"data row16 col3\" >0.2481</td>\n",
       "      <td id=\"T_a46f2_row16_col4\" class=\"data row16 col4\" >-1.7011</td>\n",
       "      <td id=\"T_a46f2_row16_col5\" class=\"data row16 col5\" >0.1256</td>\n",
       "      <td id=\"T_a46f2_row16_col6\" class=\"data row16 col6\" >4.6314</td>\n",
       "      <td id=\"T_a46f2_row16_col7\" class=\"data row16 col7\" >0.0270</td>\n",
       "    </tr>\n",
       "    <tr>\n",
       "      <th id=\"T_a46f2_level0_row17\" class=\"row_heading level0 row17\" >par</th>\n",
       "      <td id=\"T_a46f2_row17_col0\" class=\"data row17 col0\" >Passive Aggressive Regressor</td>\n",
       "      <td id=\"T_a46f2_row17_col1\" class=\"data row17 col1\" >1.7812</td>\n",
       "      <td id=\"T_a46f2_row17_col2\" class=\"data row17 col2\" >61.0459</td>\n",
       "      <td id=\"T_a46f2_row17_col3\" class=\"data row17 col3\" >2.6512</td>\n",
       "      <td id=\"T_a46f2_row17_col4\" class=\"data row17 col4\" >-838.7268</td>\n",
       "      <td id=\"T_a46f2_row17_col5\" class=\"data row17 col5\" >0.3619</td>\n",
       "      <td id=\"T_a46f2_row17_col6\" class=\"data row17 col6\" >104.3606</td>\n",
       "      <td id=\"T_a46f2_row17_col7\" class=\"data row17 col7\" >0.0230</td>\n",
       "    </tr>\n",
       "  </tbody>\n",
       "</table>\n"
      ],
      "text/plain": [
       "<pandas.io.formats.style.Styler at 0x2582a267610>"
      ]
     },
     "metadata": {},
     "output_type": "display_data"
    },
    {
     "data": {
      "application/vnd.jupyter.widget-view+json": {
       "model_id": "",
       "version_major": 2,
       "version_minor": 0
      },
      "text/plain": [
       "Processing:   0%|          | 0/77 [00:00<?, ?it/s]"
      ]
     },
     "metadata": {},
     "output_type": "display_data"
    }
   ],
   "source": [
    "best_model = compare_models(sort=\"RMSE\")"
   ]
  },
  {
   "cell_type": "code",
   "execution_count": 12,
   "id": "b0f8fda2-5445-45f4-85f9-06bd00d4a71e",
   "metadata": {},
   "outputs": [],
   "source": [
    "final_model = finalize_model(best_model)"
   ]
  },
  {
   "cell_type": "code",
   "execution_count": 13,
   "id": "be55414a-3e88-4e52-97ec-531f51b6192c",
   "metadata": {},
   "outputs": [
    {
     "name": "stdout",
     "output_type": "stream",
     "text": [
      "Best Model Selected: HuberRegressor()\n"
     ]
    }
   ],
   "source": [
    "print(f\"Best Model Selected: {best_model}\")"
   ]
  },
  {
   "cell_type": "code",
   "execution_count": 14,
   "id": "33558be3-0969-4c03-bbc3-71385ace698f",
   "metadata": {},
   "outputs": [
    {
     "name": "stdout",
     "output_type": "stream",
     "text": [
      "Transformation Pipeline and Model Successfully Saved\n"
     ]
    },
    {
     "data": {
      "text/plain": [
       "(Pipeline(memory=Memory(location=None),\n",
       "          steps=[('numerical_imputer',\n",
       "                  TransformerWrapper(include=['Open', 'High', 'Low', 'Close',\n",
       "                                              'Volume', 'Year', 'Month', 'Day'],\n",
       "                                     transformer=SimpleImputer())),\n",
       "                 ('categorical_imputer',\n",
       "                  TransformerWrapper(include=[],\n",
       "                                     transformer=SimpleImputer(strategy='most_frequent'))),\n",
       "                 ('clean_column_names',\n",
       "                  TransformerWrapper(transformer=CleanColumnNames())),\n",
       "                 ('actual_estimator', HuberRegressor())]),\n",
       " 'best_stock_model.pkl')"
      ]
     },
     "execution_count": 14,
     "metadata": {},
     "output_type": "execute_result"
    }
   ],
   "source": [
    "save_model(final_model, \"best_stock_model\")"
   ]
  },
  {
   "cell_type": "code",
   "execution_count": 15,
   "id": "a25d8511-e991-46df-b62f-29fcd1c4e3c6",
   "metadata": {},
   "outputs": [
    {
     "name": "stdout",
     "output_type": "stream",
     "text": [
      "Transformation Pipeline and Model Successfully Loaded\n",
      "Model Evaluation Metrics:\n"
     ]
    },
    {
     "data": {
      "application/vnd.jupyter.widget-view+json": {
       "model_id": "e73787774caf4664b8a3b3a7af0da13d",
       "version_major": 2,
       "version_minor": 0
      },
      "text/plain": [
       "interactive(children=(ToggleButtons(description='Plot Type:', icons=('',), options=(('Pipeline Plot', 'pipelin…"
      ]
     },
     "metadata": {},
     "output_type": "display_data"
    },
    {
     "data": {
      "text/html": [],
      "text/plain": [
       "<IPython.core.display.HTML object>"
      ]
     },
     "metadata": {},
     "output_type": "display_data"
    },
    {
     "name": "stdout",
     "output_type": "stream",
     "text": [
      "Index(['Stock_AAPL', 'Stock_TSLA', 'Stock_AMZN', 'Stock_GOOGL', 'Stock_MSFT',\n",
      "       'Open', 'High', 'Low', 'Close', 'Volume', 'Year', 'Month', 'Day',\n",
      "       'prediction_label'],\n",
      "      dtype='object')\n",
      "Predicted Log Return: -0.01655\n",
      "Predicted Stock Price for AAPL: $232.06\n"
     ]
    }
   ],
   "source": [
    "from pycaret.regression import *\n",
    "import numpy as np\n",
    "\n",
    "# Load the trained model\n",
    "best_model = load_model(\"best_stock_model\")\n",
    "\n",
    "# 1️⃣ Evaluate the Model\n",
    "print(\"Model Evaluation Metrics:\")\n",
    "evaluate_model(best_model)\n",
    "\n",
    "# 2️⃣ Prepare New Data for Prediction\n",
    "latest_row = {\n",
    "    \"Stock_AAPL\": 1,  # Set 1 for the stock you want to predict, 0 for others\n",
    "    \"Stock_TSLA\": 0,\n",
    "    \"Stock_AMZN\": 0,\n",
    "    \"Stock_GOOGL\": 0,\n",
    "    \"Stock_MSFT\": 0,\n",
    "    \"Open\": 241.79,\n",
    "    \"High\": 244.02,\n",
    "    \"Low\": 234.68,\n",
    "    \"Close\": 235.93,\n",
    "    \"Volume\": 100982047,\n",
    "    \"Year\": 2025,\n",
    "    \"Month\": 4,\n",
    "    \"Day\": 1,  # Predicting next month\n",
    "}\n",
    "\n",
    "# Convert dictionary to DataFrame\n",
    "latest_df = pd.DataFrame([latest_row])\n",
    "\n",
    "# 3️⃣ Predict Log Return\n",
    "predicted_df = predict_model(best_model, data=latest_df)\n",
    "print(predicted_df.columns)  # Debugging step to check column names\n",
    "\n",
    "# Use the correct column name (likely 'prediction' instead of 'Label')\n",
    "predicted_log_return = predicted_df.iloc[:, -1][0]  # Get last column\n",
    "\n",
    "\n",
    "# 4️⃣ Convert Log Return to Price\n",
    "current_price = latest_row[\"Close\"]\n",
    "predicted_price = current_price * np.exp(predicted_log_return)\n",
    "\n",
    "print(f\"Predicted Log Return: {predicted_log_return:.5f}\")\n",
    "print(f\"Predicted Stock Price for AAPL: ${predicted_price:.2f}\")\n"
   ]
  },
  {
   "cell_type": "code",
   "execution_count": 16,
   "id": "9b5a5904-fd64-4255-bd85-231f61131dad",
   "metadata": {},
   "outputs": [
    {
     "data": {
      "text/html": [
       "<div>\n",
       "<style scoped>\n",
       "    .dataframe tbody tr th:only-of-type {\n",
       "        vertical-align: middle;\n",
       "    }\n",
       "\n",
       "    .dataframe tbody tr th {\n",
       "        vertical-align: top;\n",
       "    }\n",
       "\n",
       "    .dataframe thead th {\n",
       "        text-align: right;\n",
       "    }\n",
       "</style>\n",
       "<table border=\"1\" class=\"dataframe\">\n",
       "  <thead>\n",
       "    <tr style=\"text-align: right;\">\n",
       "      <th></th>\n",
       "      <th>Open</th>\n",
       "      <th>High</th>\n",
       "      <th>Low</th>\n",
       "      <th>Close</th>\n",
       "      <th>Volume</th>\n",
       "      <th>Log Return</th>\n",
       "      <th>Year</th>\n",
       "      <th>Month</th>\n",
       "      <th>Day</th>\n",
       "      <th>Stock_AAPL</th>\n",
       "      <th>Stock_AMZN</th>\n",
       "      <th>Stock_GOOGL</th>\n",
       "      <th>Stock_MSFT</th>\n",
       "      <th>Stock_TSLA</th>\n",
       "    </tr>\n",
       "  </thead>\n",
       "  <tbody>\n",
       "    <tr>\n",
       "      <th>0</th>\n",
       "      <td>241.790</td>\n",
       "      <td>244.0272</td>\n",
       "      <td>234.68</td>\n",
       "      <td>235.93</td>\n",
       "      <td>100982047</td>\n",
       "      <td>0.000000</td>\n",
       "      <td>2025</td>\n",
       "      <td>3</td>\n",
       "      <td>4</td>\n",
       "      <td>True</td>\n",
       "      <td>False</td>\n",
       "      <td>False</td>\n",
       "      <td>False</td>\n",
       "      <td>False</td>\n",
       "    </tr>\n",
       "    <tr>\n",
       "      <th>1</th>\n",
       "      <td>229.990</td>\n",
       "      <td>250.0000</td>\n",
       "      <td>225.70</td>\n",
       "      <td>241.84</td>\n",
       "      <td>862317019</td>\n",
       "      <td>0.024741</td>\n",
       "      <td>2025</td>\n",
       "      <td>2</td>\n",
       "      <td>28</td>\n",
       "      <td>True</td>\n",
       "      <td>False</td>\n",
       "      <td>False</td>\n",
       "      <td>False</td>\n",
       "      <td>False</td>\n",
       "    </tr>\n",
       "    <tr>\n",
       "      <th>2</th>\n",
       "      <td>248.930</td>\n",
       "      <td>249.1000</td>\n",
       "      <td>219.38</td>\n",
       "      <td>236.00</td>\n",
       "      <td>1200291603</td>\n",
       "      <td>-0.024445</td>\n",
       "      <td>2025</td>\n",
       "      <td>1</td>\n",
       "      <td>31</td>\n",
       "      <td>True</td>\n",
       "      <td>False</td>\n",
       "      <td>False</td>\n",
       "      <td>False</td>\n",
       "      <td>False</td>\n",
       "    </tr>\n",
       "    <tr>\n",
       "      <th>3</th>\n",
       "      <td>237.270</td>\n",
       "      <td>260.1000</td>\n",
       "      <td>237.16</td>\n",
       "      <td>250.42</td>\n",
       "      <td>977942014</td>\n",
       "      <td>0.059308</td>\n",
       "      <td>2024</td>\n",
       "      <td>12</td>\n",
       "      <td>31</td>\n",
       "      <td>True</td>\n",
       "      <td>False</td>\n",
       "      <td>False</td>\n",
       "      <td>False</td>\n",
       "      <td>False</td>\n",
       "    </tr>\n",
       "    <tr>\n",
       "      <th>4</th>\n",
       "      <td>220.965</td>\n",
       "      <td>237.8100</td>\n",
       "      <td>219.71</td>\n",
       "      <td>237.33</td>\n",
       "      <td>891640714</td>\n",
       "      <td>-0.053688</td>\n",
       "      <td>2024</td>\n",
       "      <td>11</td>\n",
       "      <td>29</td>\n",
       "      <td>True</td>\n",
       "      <td>False</td>\n",
       "      <td>False</td>\n",
       "      <td>False</td>\n",
       "      <td>False</td>\n",
       "    </tr>\n",
       "  </tbody>\n",
       "</table>\n",
       "</div>"
      ],
      "text/plain": [
       "      Open      High     Low   Close      Volume  Log Return  Year  Month  \\\n",
       "0  241.790  244.0272  234.68  235.93   100982047    0.000000  2025      3   \n",
       "1  229.990  250.0000  225.70  241.84   862317019    0.024741  2025      2   \n",
       "2  248.930  249.1000  219.38  236.00  1200291603   -0.024445  2025      1   \n",
       "3  237.270  260.1000  237.16  250.42   977942014    0.059308  2024     12   \n",
       "4  220.965  237.8100  219.71  237.33   891640714   -0.053688  2024     11   \n",
       "\n",
       "   Day  Stock_AAPL  Stock_AMZN  Stock_GOOGL  Stock_MSFT  Stock_TSLA  \n",
       "0    4        True       False        False       False       False  \n",
       "1   28        True       False        False       False       False  \n",
       "2   31        True       False        False       False       False  \n",
       "3   31        True       False        False       False       False  \n",
       "4   29        True       False        False       False       False  "
      ]
     },
     "execution_count": 16,
     "metadata": {},
     "output_type": "execute_result"
    }
   ],
   "source": [
    "df.head()"
   ]
  },
  {
   "cell_type": "code",
   "execution_count": null,
   "id": "7c4f7d32-d542-4ae9-bbfc-8365e25e0308",
   "metadata": {},
   "outputs": [],
   "source": []
  },
  {
   "cell_type": "code",
   "execution_count": 17,
   "id": "3b6fe336-0faf-4022-85c4-f3fe97a42e51",
   "metadata": {},
   "outputs": [
    {
     "data": {
      "text/html": [],
      "text/plain": [
       "<IPython.core.display.HTML object>"
      ]
     },
     "metadata": {},
     "output_type": "display_data"
    },
    {
     "data": {
      "text/html": [],
      "text/plain": [
       "<IPython.core.display.HTML object>"
      ]
     },
     "metadata": {},
     "output_type": "display_data"
    },
    {
     "data": {
      "text/html": [],
      "text/plain": [
       "<IPython.core.display.HTML object>"
      ]
     },
     "metadata": {},
     "output_type": "display_data"
    },
    {
     "data": {
      "text/html": [],
      "text/plain": [
       "<IPython.core.display.HTML object>"
      ]
     },
     "metadata": {},
     "output_type": "display_data"
    },
    {
     "data": {
      "text/html": [],
      "text/plain": [
       "<IPython.core.display.HTML object>"
      ]
     },
     "metadata": {},
     "output_type": "display_data"
    },
    {
     "name": "stdout",
     "output_type": "stream",
     "text": [
      "Single Stock Investment Strategy: {'AMZN': 10000}\n",
      "Diversified Investment Strategy: {'AMZN': 5541.49813083917, 'GOOGL': 4458.501869160831}\n"
     ]
    }
   ],
   "source": [
    "import pandas as pd\n",
    "import numpy as np\n",
    "from pycaret.regression import predict_model\n",
    "\n",
    "# Function to get predicted returns for all stocks\n",
    "def predict_returns(latest_data, model):\n",
    "    predicted_returns = {}\n",
    "    \n",
    "    for stock in ['AAPL', 'TSLA', 'AMZN', 'GOOGL', 'MSFT']:\n",
    "        stock_col = f\"Stock_{stock}\"\n",
    "        \n",
    "        # Filter only the row where stock_col is True\n",
    "        latest_row = latest_data[latest_data[stock_col] == True].copy()\n",
    "        if latest_row.empty:\n",
    "            continue\n",
    "        \n",
    "        # Predict log return\n",
    "        predicted_log_return = predict_model(model, data=latest_row)['prediction_label'].values[0]\n",
    "        predicted_returns[stock] = predicted_log_return\n",
    "    \n",
    "    return predicted_returns\n",
    "\n",
    "# Function to allocate investment based on strategy\n",
    "# Function to allocate investment while ignoring negative returns\n",
    "def allocate_investment(predicted_returns, investment_amount=10000, diversify=True):\n",
    "    # Filter out negative-return stocks\n",
    "    positive_returns = {s: r for s, r in predicted_returns.items() if r > 0}\n",
    "    \n",
    "    if not positive_returns:\n",
    "        return {\"No suitable stock found\": investment_amount}  # Handle case where all returns are negative\n",
    "    \n",
    "    sorted_returns = sorted(positive_returns.items(), key=lambda x: x[1], reverse=True)\n",
    "    \n",
    "    if diversify:\n",
    "        top_stocks = sorted_returns[:3]  # Select top 3 stocks\n",
    "        total_return = sum([r[1] for r in top_stocks])\n",
    "        allocations = {s: (r / total_return) * investment_amount for s, r in top_stocks}\n",
    "    else:\n",
    "        top_stock = sorted_returns[0]  # Select highest return stock\n",
    "        allocations = {top_stock[0]: investment_amount}\n",
    "    \n",
    "    return allocations\n",
    "\n",
    "\n",
    "# Sample latest data (replace with actual latest row)\n",
    "latest_data = pd.DataFrame({\n",
    "    'Open': [240, 180, 3200, 2800, 300],\n",
    "    'High': [245, 190, 3250, 2850, 310],\n",
    "    'Low': [230, 170, 3150, 2750, 290],\n",
    "    'Close': [235, 185, 3220, 2820, 305],\n",
    "    'Volume': [10000000, 8000000, 5000000, 3000000, 6000000],\n",
    "    'Year': [2025] * 5,\n",
    "    'Month': [3] * 5,\n",
    "    'Day': [4] * 5,\n",
    "    'Stock_AAPL': [True, False, False, False, False],\n",
    "    'Stock_TSLA': [False, True, False, False, False],\n",
    "    'Stock_AMZN': [False, False, True, False, False],\n",
    "    'Stock_GOOGL': [False, False, False, True, False],\n",
    "    'Stock_MSFT': [False, False, False, False, True]\n",
    "})\n",
    "\n",
    "# Predict returns\n",
    "predicted_returns = predict_returns(latest_data, best_model)\n",
    "\n",
    "# Get investment strategies\n",
    "single_stock_investment = allocate_investment(predicted_returns, diversify=False)\n",
    "diversified_investment = allocate_investment(predicted_returns, diversify=True)\n",
    "\n",
    "print(\"Single Stock Investment Strategy:\", single_stock_investment)\n",
    "print(\"Diversified Investment Strategy:\", diversified_investment)\n"
   ]
  },
  {
   "cell_type": "code",
   "execution_count": 18,
   "id": "76de82be-a9d4-4fbf-b692-277e261a4c10",
   "metadata": {},
   "outputs": [
    {
     "data": {
      "text/html": [
       "<style type=\"text/css\">\n",
       "</style>\n",
       "<table id=\"T_5e712\">\n",
       "  <thead>\n",
       "    <tr>\n",
       "      <th class=\"blank level0\" >&nbsp;</th>\n",
       "      <th id=\"T_5e712_level0_col0\" class=\"col_heading level0 col0\" >Model</th>\n",
       "      <th id=\"T_5e712_level0_col1\" class=\"col_heading level0 col1\" >MAE</th>\n",
       "      <th id=\"T_5e712_level0_col2\" class=\"col_heading level0 col2\" >MSE</th>\n",
       "      <th id=\"T_5e712_level0_col3\" class=\"col_heading level0 col3\" >RMSE</th>\n",
       "      <th id=\"T_5e712_level0_col4\" class=\"col_heading level0 col4\" >R2</th>\n",
       "      <th id=\"T_5e712_level0_col5\" class=\"col_heading level0 col5\" >RMSLE</th>\n",
       "      <th id=\"T_5e712_level0_col6\" class=\"col_heading level0 col6\" >MAPE</th>\n",
       "    </tr>\n",
       "  </thead>\n",
       "  <tbody>\n",
       "    <tr>\n",
       "      <th id=\"T_5e712_level0_row0\" class=\"row_heading level0 row0\" >0</th>\n",
       "      <td id=\"T_5e712_row0_col0\" class=\"data row0 col0\" >Huber Regressor</td>\n",
       "      <td id=\"T_5e712_row0_col1\" class=\"data row0 col1\" >0.0905</td>\n",
       "      <td id=\"T_5e712_row0_col2\" class=\"data row0 col2\" >0.0332</td>\n",
       "      <td id=\"T_5e712_row0_col3\" class=\"data row0 col3\" >0.1822</td>\n",
       "      <td id=\"T_5e712_row0_col4\" class=\"data row0 col4\" >0.0086</td>\n",
       "      <td id=\"T_5e712_row0_col5\" class=\"data row0 col5\" >0.1193</td>\n",
       "      <td id=\"T_5e712_row0_col6\" class=\"data row0 col6\" >1.4511</td>\n",
       "    </tr>\n",
       "  </tbody>\n",
       "</table>\n"
      ],
      "text/plain": [
       "<pandas.io.formats.style.Styler at 0x25829f78490>"
      ]
     },
     "metadata": {},
     "output_type": "display_data"
    },
    {
     "name": "stdout",
     "output_type": "stream",
     "text": [
      "Mean Absolute Error (MAE): 0.09049\n",
      "Mean Squared Error (MSE): 0.03320\n",
      "      Year  Month  Log Return  Predicted_Log_Return\n",
      "1326  2011      4   -0.088037             -0.021283\n",
      "1327  2011      3    0.005420             -0.021275\n",
      "1328  2011      2   -0.149776             -0.021350\n",
      "1329  2011      1    0.008752             -0.021325\n",
      "1330  2010     12    0.099827             -0.021112\n",
      "1331  2010     11    0.282694             -0.021246\n",
      "1332  2010     10   -0.480989             -0.021647\n",
      "1333  2010      9   -0.067963             -0.021525\n",
      "1334  2010      8   -0.046392             -0.021574\n",
      "1335  2010      7    0.023339             -0.020983\n"
     ]
    }
   ],
   "source": [
    "import numpy as np\n",
    "import pandas as pd\n",
    "from pycaret.regression import predict_model\n",
    "\n",
    "# Get actual vs predicted log returns\n",
    "def evaluate_model(df, model):\n",
    "    df = df.copy()\n",
    "    \n",
    "    # Predict log returns using the trained model\n",
    "    df['Predicted_Log_Return'] = predict_model(model, data=df)['prediction_label']\n",
    "    \n",
    "    # Calculate error metrics\n",
    "    df['Error'] = df['Predicted_Log_Return'] - df['Log Return']\n",
    "    mae = np.mean(np.abs(df['Error']))\n",
    "    mse = np.mean(df['Error'] ** 2)\n",
    "    \n",
    "    print(f\"Mean Absolute Error (MAE): {mae:.5f}\")\n",
    "    print(f\"Mean Squared Error (MSE): {mse:.5f}\")\n",
    "    \n",
    "    # Display actual vs. predicted returns for last few months\n",
    "    print(df[[ 'Year', 'Month', 'Log Return', 'Predicted_Log_Return']].tail(10))\n",
    "\n",
    "# Run evaluation on historical data\n",
    "evaluate_model(df, best_model)\n"
   ]
  },
  {
   "cell_type": "code",
   "execution_count": 19,
   "id": "3ce36e17-8b29-4a8e-b5a9-2d12d7059e4e",
   "metadata": {},
   "outputs": [
    {
     "name": "stdout",
     "output_type": "stream",
     "text": [
      "Stock with highest risk-adjusted return: AMZN (Sharpe Ratio: 0.09)\n"
     ]
    }
   ],
   "source": [
    "def calculate_sharpe_ratio(df, predicted_returns):\n",
    "    sharpe_ratios = {}\n",
    "    risk_free_rate = 0.02  # Assume 2% annual risk-free rate\n",
    "\n",
    "    for stock in predicted_returns.keys():\n",
    "        stock_data = df[df[f'Stock_{stock}'] == True]  # Filter stock data\n",
    "        volatility = stock_data['Log Return'].std()  # Standard deviation of log returns\n",
    "\n",
    "        if volatility == 0:\n",
    "            sharpe_ratios[stock] = -np.inf  # Avoid division by zero\n",
    "        else:\n",
    "            sharpe_ratios[stock] = (predicted_returns[stock] - risk_free_rate) / volatility\n",
    "\n",
    "    return sharpe_ratios\n",
    "\n",
    "# Compute Sharpe Ratio\n",
    "sharpe_ratios = calculate_sharpe_ratio(df, predicted_returns)\n",
    "\n",
    "# Select the best stock based on Sharpe Ratio\n",
    "best_stock_sharpe = max(sharpe_ratios, key=sharpe_ratios.get)\n",
    "print(f\"Stock with highest risk-adjusted return: {best_stock_sharpe} (Sharpe Ratio: {sharpe_ratios[best_stock_sharpe]:.2f})\")\n"
   ]
  },
  {
   "cell_type": "code",
   "execution_count": null,
   "id": "3d3eea21-81d0-4be6-80b0-f9d414e5eb19",
   "metadata": {},
   "outputs": [],
   "source": []
  },
  {
   "cell_type": "code",
   "execution_count": null,
   "id": "cbd297c2-5ca7-4ff6-9a0c-981d2b9d4687",
   "metadata": {},
   "outputs": [],
   "source": []
  }
 ],
 "metadata": {
  "kernelspec": {
   "display_name": "Python 3 (ipykernel)",
   "language": "python",
   "name": "python3"
  },
  "language_info": {
   "codemirror_mode": {
    "name": "ipython",
    "version": 3
   },
   "file_extension": ".py",
   "mimetype": "text/x-python",
   "name": "python",
   "nbconvert_exporter": "python",
   "pygments_lexer": "ipython3",
   "version": "3.11.7"
  }
 },
 "nbformat": 4,
 "nbformat_minor": 5
}
